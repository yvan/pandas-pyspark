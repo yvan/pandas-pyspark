{
 "cells": [
  {
   "cell_type": "code",
   "execution_count": 1,
   "id": "40ac8099",
   "metadata": {},
   "outputs": [],
   "source": [
    "import re\n",
    "import math\n",
    "import string\n",
    "import random\n",
    "import pandas as pd\n",
    "import numpy as np"
   ]
  },
  {
   "cell_type": "markdown",
   "id": "3f9abc21",
   "metadata": {},
   "source": [
    "First let's create some fake data."
   ]
  },
  {
   "cell_type": "code",
   "execution_count": 2,
   "id": "9bb85181",
   "metadata": {},
   "outputs": [
    {
     "data": {
      "text/plain": [
       "['SymxUUBCx',\n",
       " 'RcKB398',\n",
       " 'uNQMYeBmQ',\n",
       " 'lOihuqh9a',\n",
       " 'pIkq',\n",
       " '21rkd6',\n",
       " 'yLdLOm',\n",
       " 'CLrQTb',\n",
       " 'LFThQKIw',\n",
       " 'sYef',\n",
       " '00L3k',\n",
       " 'OjQ',\n",
       " 'RcFU',\n",
       " 'IKu',\n",
       " 'Uxf']"
      ]
     },
     "execution_count": 2,
     "metadata": {},
     "output_type": "execute_result"
    }
   ],
   "source": [
    "# create fake column names\n",
    "columns = []\n",
    "num_columns = 15\n",
    "alphabet = string.ascii_uppercase + string.ascii_lowercase + string.digits\n",
    "for d in range(num_columns):\n",
    "    col_len = random.randint(3, 9)\n",
    "    column_name = ''.join([random.choice(alphabet) for r in range(col_len)])\n",
    "    columns.append(column_name)\n",
    "columns"
   ]
  },
  {
   "cell_type": "code",
   "execution_count": 3,
   "id": "e570921e",
   "metadata": {},
   "outputs": [],
   "source": [
    "# create fake data\n",
    "d1 = np.random.randint(100,size=(100,3))\n",
    "d2 = np.random.randint(100,size=(100,7))"
   ]
  },
  {
   "cell_type": "code",
   "execution_count": 4,
   "id": "5bcf2934",
   "metadata": {},
   "outputs": [],
   "source": [
    "# put columns and data together\n",
    "df1 = pd.DataFrame(d1, columns=columns[:3])\n",
    "df2 = pd.DataFrame(d2, columns=columns[1:8])\n",
    "df2[columns[8]] = np.random.randint(0,2,(100,1))\n",
    "mixed_type_list = [np.nan]*12 + ['nan']*13 + [\"abc23\"]*50 + list(np.random.randint(100,size=(25,1)).flatten())\n",
    "random.shuffle(mixed_type_list)\n",
    "df2[columns[9]] = mixed_type_list # simulate a messy column with numbers, nans, strings\n",
    "mixed_num_list = ['50']*50+['25.0']*25+['10']*25\n",
    "random.shuffle(mixed_num_list)\n",
    "df2[columns[10]] = mixed_num_list # sumulate a messy column with string num, floats, and actual nums\n",
    "df2[columns[11]] = ['2020-02-01']*50 + ['2020/02/01']*50"
   ]
  },
  {
   "cell_type": "code",
   "execution_count": 5,
   "id": "38436a8e",
   "metadata": {},
   "outputs": [
    {
     "data": {
      "text/plain": [
       "{'RcKB398', 'uNQMYeBmQ'}"
      ]
     },
     "execution_count": 5,
     "metadata": {},
     "output_type": "execute_result"
    }
   ],
   "source": [
    "set(df1.columns).intersection(set(df2.columns))"
   ]
  },
  {
   "cell_type": "code",
   "execution_count": 6,
   "id": "d3dedfa5",
   "metadata": {},
   "outputs": [
    {
     "data": {
      "text/plain": [
       "{'00L3k',\n",
       " '21rkd6',\n",
       " 'CLrQTb',\n",
       " 'LFThQKIw',\n",
       " 'OjQ',\n",
       " 'SymxUUBCx',\n",
       " 'lOihuqh9a',\n",
       " 'pIkq',\n",
       " 'sYef',\n",
       " 'yLdLOm'}"
      ]
     },
     "execution_count": 6,
     "metadata": {},
     "output_type": "execute_result"
    }
   ],
   "source": [
    "set(df1.columns).symmetric_difference(set(df2.columns))"
   ]
  },
  {
   "cell_type": "markdown",
   "id": "c52ecde4",
   "metadata": {},
   "source": [
    "So the dataframes overlap by 2 columns and there are 7 columns that are unique only to one or the other."
   ]
  },
  {
   "cell_type": "code",
   "execution_count": 7,
   "id": "58e771e2",
   "metadata": {},
   "outputs": [],
   "source": [
    "df1.to_csv('data1.csv',index=False)\n",
    "df2.to_csv('data2.csv',index=False)"
   ]
  },
  {
   "cell_type": "markdown",
   "id": "e20f9cbb",
   "metadata": {},
   "source": [
    "Now let's do some merging on the dataset."
   ]
  },
  {
   "cell_type": "code",
   "execution_count": 8,
   "id": "556a302f",
   "metadata": {},
   "outputs": [
    {
     "data": {
      "text/plain": [
       "((100, 3), (100, 11))"
      ]
     },
     "execution_count": 8,
     "metadata": {},
     "output_type": "execute_result"
    }
   ],
   "source": [
    "df1.shape, df2.shape"
   ]
  },
  {
   "cell_type": "code",
   "execution_count": 9,
   "id": "4ad86aad",
   "metadata": {},
   "outputs": [
    {
     "data": {
      "text/html": [
       "<div>\n",
       "<style scoped>\n",
       "    .dataframe tbody tr th:only-of-type {\n",
       "        vertical-align: middle;\n",
       "    }\n",
       "\n",
       "    .dataframe tbody tr th {\n",
       "        vertical-align: top;\n",
       "    }\n",
       "\n",
       "    .dataframe thead th {\n",
       "        text-align: right;\n",
       "    }\n",
       "</style>\n",
       "<table border=\"1\" class=\"dataframe\">\n",
       "  <thead>\n",
       "    <tr style=\"text-align: right;\">\n",
       "      <th></th>\n",
       "      <th>SymxUUBCx</th>\n",
       "      <th>RcKB398</th>\n",
       "      <th>uNQMYeBmQ</th>\n",
       "      <th>lOihuqh9a</th>\n",
       "      <th>pIkq</th>\n",
       "      <th>21rkd6</th>\n",
       "      <th>yLdLOm</th>\n",
       "      <th>CLrQTb</th>\n",
       "      <th>LFThQKIw</th>\n",
       "      <th>sYef</th>\n",
       "      <th>00L3k</th>\n",
       "      <th>OjQ</th>\n",
       "    </tr>\n",
       "  </thead>\n",
       "  <tbody>\n",
       "    <tr>\n",
       "      <th>0</th>\n",
       "      <td>51.0</td>\n",
       "      <td>2</td>\n",
       "      <td>37</td>\n",
       "      <td>NaN</td>\n",
       "      <td>NaN</td>\n",
       "      <td>NaN</td>\n",
       "      <td>NaN</td>\n",
       "      <td>NaN</td>\n",
       "      <td>NaN</td>\n",
       "      <td>NaN</td>\n",
       "      <td>NaN</td>\n",
       "      <td>NaN</td>\n",
       "    </tr>\n",
       "    <tr>\n",
       "      <th>1</th>\n",
       "      <td>83.0</td>\n",
       "      <td>88</td>\n",
       "      <td>38</td>\n",
       "      <td>NaN</td>\n",
       "      <td>NaN</td>\n",
       "      <td>NaN</td>\n",
       "      <td>NaN</td>\n",
       "      <td>NaN</td>\n",
       "      <td>NaN</td>\n",
       "      <td>NaN</td>\n",
       "      <td>NaN</td>\n",
       "      <td>NaN</td>\n",
       "    </tr>\n",
       "    <tr>\n",
       "      <th>2</th>\n",
       "      <td>40.0</td>\n",
       "      <td>30</td>\n",
       "      <td>25</td>\n",
       "      <td>NaN</td>\n",
       "      <td>NaN</td>\n",
       "      <td>NaN</td>\n",
       "      <td>NaN</td>\n",
       "      <td>NaN</td>\n",
       "      <td>NaN</td>\n",
       "      <td>NaN</td>\n",
       "      <td>NaN</td>\n",
       "      <td>NaN</td>\n",
       "    </tr>\n",
       "    <tr>\n",
       "      <th>3</th>\n",
       "      <td>27.0</td>\n",
       "      <td>52</td>\n",
       "      <td>66</td>\n",
       "      <td>NaN</td>\n",
       "      <td>NaN</td>\n",
       "      <td>NaN</td>\n",
       "      <td>NaN</td>\n",
       "      <td>NaN</td>\n",
       "      <td>NaN</td>\n",
       "      <td>NaN</td>\n",
       "      <td>NaN</td>\n",
       "      <td>NaN</td>\n",
       "    </tr>\n",
       "    <tr>\n",
       "      <th>4</th>\n",
       "      <td>65.0</td>\n",
       "      <td>43</td>\n",
       "      <td>57</td>\n",
       "      <td>NaN</td>\n",
       "      <td>NaN</td>\n",
       "      <td>NaN</td>\n",
       "      <td>NaN</td>\n",
       "      <td>NaN</td>\n",
       "      <td>NaN</td>\n",
       "      <td>NaN</td>\n",
       "      <td>NaN</td>\n",
       "      <td>NaN</td>\n",
       "    </tr>\n",
       "  </tbody>\n",
       "</table>\n",
       "</div>"
      ],
      "text/plain": [
       "   SymxUUBCx  RcKB398  uNQMYeBmQ  lOihuqh9a  pIkq  21rkd6  yLdLOm  CLrQTb  \\\n",
       "0       51.0        2         37        NaN   NaN     NaN     NaN     NaN   \n",
       "1       83.0       88         38        NaN   NaN     NaN     NaN     NaN   \n",
       "2       40.0       30         25        NaN   NaN     NaN     NaN     NaN   \n",
       "3       27.0       52         66        NaN   NaN     NaN     NaN     NaN   \n",
       "4       65.0       43         57        NaN   NaN     NaN     NaN     NaN   \n",
       "\n",
       "   LFThQKIw sYef 00L3k  OjQ  \n",
       "0       NaN  NaN   NaN  NaN  \n",
       "1       NaN  NaN   NaN  NaN  \n",
       "2       NaN  NaN   NaN  NaN  \n",
       "3       NaN  NaN   NaN  NaN  \n",
       "4       NaN  NaN   NaN  NaN  "
      ]
     },
     "execution_count": 9,
     "metadata": {},
     "output_type": "execute_result"
    }
   ],
   "source": [
    "df = pd.concat([df1,df2],axis=0,ignore_index=True)\n",
    "df.head()"
   ]
  },
  {
   "cell_type": "code",
   "execution_count": 10,
   "id": "00210f4c",
   "metadata": {},
   "outputs": [
    {
     "data": {
      "text/html": [
       "<div>\n",
       "<style scoped>\n",
       "    .dataframe tbody tr th:only-of-type {\n",
       "        vertical-align: middle;\n",
       "    }\n",
       "\n",
       "    .dataframe tbody tr th {\n",
       "        vertical-align: top;\n",
       "    }\n",
       "\n",
       "    .dataframe thead th {\n",
       "        text-align: right;\n",
       "    }\n",
       "</style>\n",
       "<table border=\"1\" class=\"dataframe\">\n",
       "  <thead>\n",
       "    <tr style=\"text-align: right;\">\n",
       "      <th></th>\n",
       "      <th>SymxUUBCx</th>\n",
       "      <th>RcKB398</th>\n",
       "      <th>uNQMYeBmQ</th>\n",
       "      <th>lOihuqh9a</th>\n",
       "      <th>pIkq</th>\n",
       "      <th>21rkd6</th>\n",
       "      <th>yLdLOm</th>\n",
       "      <th>CLrQTb</th>\n",
       "      <th>LFThQKIw</th>\n",
       "      <th>sYef</th>\n",
       "      <th>00L3k</th>\n",
       "      <th>OjQ</th>\n",
       "    </tr>\n",
       "  </thead>\n",
       "  <tbody>\n",
       "    <tr>\n",
       "      <th>195</th>\n",
       "      <td>NaN</td>\n",
       "      <td>27</td>\n",
       "      <td>65</td>\n",
       "      <td>20.0</td>\n",
       "      <td>37.0</td>\n",
       "      <td>29.0</td>\n",
       "      <td>73.0</td>\n",
       "      <td>70.0</td>\n",
       "      <td>0.0</td>\n",
       "      <td>abc23</td>\n",
       "      <td>10</td>\n",
       "      <td>2020/02/01</td>\n",
       "    </tr>\n",
       "    <tr>\n",
       "      <th>196</th>\n",
       "      <td>NaN</td>\n",
       "      <td>13</td>\n",
       "      <td>7</td>\n",
       "      <td>89.0</td>\n",
       "      <td>81.0</td>\n",
       "      <td>52.0</td>\n",
       "      <td>86.0</td>\n",
       "      <td>87.0</td>\n",
       "      <td>0.0</td>\n",
       "      <td>34</td>\n",
       "      <td>25.0</td>\n",
       "      <td>2020/02/01</td>\n",
       "    </tr>\n",
       "    <tr>\n",
       "      <th>197</th>\n",
       "      <td>NaN</td>\n",
       "      <td>8</td>\n",
       "      <td>92</td>\n",
       "      <td>51.0</td>\n",
       "      <td>37.0</td>\n",
       "      <td>23.0</td>\n",
       "      <td>46.0</td>\n",
       "      <td>86.0</td>\n",
       "      <td>1.0</td>\n",
       "      <td>abc23</td>\n",
       "      <td>10</td>\n",
       "      <td>2020/02/01</td>\n",
       "    </tr>\n",
       "    <tr>\n",
       "      <th>198</th>\n",
       "      <td>NaN</td>\n",
       "      <td>82</td>\n",
       "      <td>68</td>\n",
       "      <td>92.0</td>\n",
       "      <td>68.0</td>\n",
       "      <td>43.0</td>\n",
       "      <td>76.0</td>\n",
       "      <td>61.0</td>\n",
       "      <td>1.0</td>\n",
       "      <td>abc23</td>\n",
       "      <td>25.0</td>\n",
       "      <td>2020/02/01</td>\n",
       "    </tr>\n",
       "    <tr>\n",
       "      <th>199</th>\n",
       "      <td>NaN</td>\n",
       "      <td>30</td>\n",
       "      <td>57</td>\n",
       "      <td>49.0</td>\n",
       "      <td>34.0</td>\n",
       "      <td>83.0</td>\n",
       "      <td>26.0</td>\n",
       "      <td>43.0</td>\n",
       "      <td>0.0</td>\n",
       "      <td>nan</td>\n",
       "      <td>50</td>\n",
       "      <td>2020/02/01</td>\n",
       "    </tr>\n",
       "  </tbody>\n",
       "</table>\n",
       "</div>"
      ],
      "text/plain": [
       "     SymxUUBCx  RcKB398  uNQMYeBmQ  lOihuqh9a  pIkq  21rkd6  yLdLOm  CLrQTb  \\\n",
       "195        NaN       27         65       20.0  37.0    29.0    73.0    70.0   \n",
       "196        NaN       13          7       89.0  81.0    52.0    86.0    87.0   \n",
       "197        NaN        8         92       51.0  37.0    23.0    46.0    86.0   \n",
       "198        NaN       82         68       92.0  68.0    43.0    76.0    61.0   \n",
       "199        NaN       30         57       49.0  34.0    83.0    26.0    43.0   \n",
       "\n",
       "     LFThQKIw   sYef 00L3k         OjQ  \n",
       "195       0.0  abc23    10  2020/02/01  \n",
       "196       0.0     34  25.0  2020/02/01  \n",
       "197       1.0  abc23    10  2020/02/01  \n",
       "198       1.0  abc23  25.0  2020/02/01  \n",
       "199       0.0    nan    50  2020/02/01  "
      ]
     },
     "execution_count": 10,
     "metadata": {},
     "output_type": "execute_result"
    }
   ],
   "source": [
    " df.tail()"
   ]
  },
  {
   "cell_type": "code",
   "execution_count": 11,
   "id": "3ed0c2c8",
   "metadata": {},
   "outputs": [
    {
     "data": {
      "text/plain": [
       "(200, 12)"
      ]
     },
     "execution_count": 11,
     "metadata": {},
     "output_type": "execute_result"
    }
   ],
   "source": [
    "df.shape"
   ]
  },
  {
   "cell_type": "markdown",
   "id": "e2ecf930",
   "metadata": {},
   "source": [
    "You can see that we created a single dataframe with 200 rows and filled nans where the columns did not have values. This merging step is simple but it can be more complicated in reality. The combination of datasets row wise can create large numbers of these nan values and overwhelm your RAM."
   ]
  },
  {
   "cell_type": "markdown",
   "id": "308a43f6",
   "metadata": {},
   "source": [
    "Then let's do processing/transforms."
   ]
  },
  {
   "cell_type": "code",
   "execution_count": 12,
   "id": "9cbc1094",
   "metadata": {},
   "outputs": [
    {
     "data": {
      "text/plain": [
       "('RcKB398', 'LFThQKIw', 'sYef', '00L3k', 'OjQ')"
      ]
     },
     "execution_count": 12,
     "metadata": {},
     "output_type": "execute_result"
    }
   ],
   "source": [
    "col1, col2, col3, col4, col5 = df.columns[1], df.columns[8], df.columns[9], df.columns[10], df.columns[11]\n",
    "(col1, col2, col3, col4, col5)"
   ]
  },
  {
   "cell_type": "code",
   "execution_count": 13,
   "id": "16a1b136",
   "metadata": {},
   "outputs": [
    {
     "data": {
      "text/plain": [
       "nan"
      ]
     },
     "execution_count": 13,
     "metadata": {},
     "output_type": "execute_result"
    }
   ],
   "source": [
    "float('nan')"
   ]
  },
  {
   "cell_type": "code",
   "execution_count": 15,
   "id": "89f5a69a",
   "metadata": {},
   "outputs": [],
   "source": [
    "# this is a simple tranform\n",
    "df[col1] = df[col1]*5\n",
    "\n",
    "# this one converts to T/F\n",
    "df[col2] = np.where(df[col2] == 1, True, False)\n",
    "\n",
    "# col 3 converts to numbers, only casting to numeric \n",
    "# if we can bring the entire column\n",
    "row_ct = df.shape[0]\n",
    "num_ct = pd.to_numeric(df[col3], errors='coerce').count() # coerce makes nan, count drops nan\n",
    "# same as before, checks all to be numeric with regex\n",
    "num_regex = r\"^((-)?[0-9]+)(,[0-9]+)*(\\.[0-9]+)?$|(^$)\"\n",
    "all_are_nums = all(df[col3].fillna('').astype(str).apply(lambda x: re.match(num_regex, x)))\n",
    "\n",
    "if (num_ct == row_ct) or all_are_nums:\n",
    "    df[col3] = pd.to_numeric(df[col3], errors='coerce')\n",
    "    \n",
    "# this cleans/filters a column of all non numerical contents\n",
    "# in each element then does the cast\n",
    "df[col3] = df[col3].replace(regex=r\"[^0-9\\\\.]\", value=\"\")\n",
    "df[col3] = pd.to_numeric(df[col3], errors='coerce')\n",
    "\n",
    "# using a custom function to convert col4 back to int\n",
    "df[col4] = df[col4].apply(lambda m: None if m in [None, float('nan'), np.nan, math.nan] else int(float(m)))\n",
    "\n",
    "# simple date conversion\n",
    "df[col5] = pd.to_datetime(df[col5], errors='coerce')"
   ]
  },
  {
   "cell_type": "code",
   "execution_count": 16,
   "id": "986ad007",
   "metadata": {
    "scrolled": true
   },
   "outputs": [
    {
     "data": {
      "text/html": [
       "<div>\n",
       "<style scoped>\n",
       "    .dataframe tbody tr th:only-of-type {\n",
       "        vertical-align: middle;\n",
       "    }\n",
       "\n",
       "    .dataframe tbody tr th {\n",
       "        vertical-align: top;\n",
       "    }\n",
       "\n",
       "    .dataframe thead th {\n",
       "        text-align: right;\n",
       "    }\n",
       "</style>\n",
       "<table border=\"1\" class=\"dataframe\">\n",
       "  <thead>\n",
       "    <tr style=\"text-align: right;\">\n",
       "      <th></th>\n",
       "      <th>SymxUUBCx</th>\n",
       "      <th>RcKB398</th>\n",
       "      <th>uNQMYeBmQ</th>\n",
       "      <th>lOihuqh9a</th>\n",
       "      <th>pIkq</th>\n",
       "      <th>21rkd6</th>\n",
       "      <th>yLdLOm</th>\n",
       "      <th>CLrQTb</th>\n",
       "      <th>LFThQKIw</th>\n",
       "      <th>sYef</th>\n",
       "      <th>00L3k</th>\n",
       "      <th>OjQ</th>\n",
       "    </tr>\n",
       "  </thead>\n",
       "  <tbody>\n",
       "    <tr>\n",
       "      <th>0</th>\n",
       "      <td>51.0</td>\n",
       "      <td>10</td>\n",
       "      <td>37</td>\n",
       "      <td>NaN</td>\n",
       "      <td>NaN</td>\n",
       "      <td>NaN</td>\n",
       "      <td>NaN</td>\n",
       "      <td>NaN</td>\n",
       "      <td>False</td>\n",
       "      <td>NaN</td>\n",
       "      <td>NaN</td>\n",
       "      <td>NaT</td>\n",
       "    </tr>\n",
       "    <tr>\n",
       "      <th>1</th>\n",
       "      <td>83.0</td>\n",
       "      <td>440</td>\n",
       "      <td>38</td>\n",
       "      <td>NaN</td>\n",
       "      <td>NaN</td>\n",
       "      <td>NaN</td>\n",
       "      <td>NaN</td>\n",
       "      <td>NaN</td>\n",
       "      <td>False</td>\n",
       "      <td>NaN</td>\n",
       "      <td>NaN</td>\n",
       "      <td>NaT</td>\n",
       "    </tr>\n",
       "    <tr>\n",
       "      <th>2</th>\n",
       "      <td>40.0</td>\n",
       "      <td>150</td>\n",
       "      <td>25</td>\n",
       "      <td>NaN</td>\n",
       "      <td>NaN</td>\n",
       "      <td>NaN</td>\n",
       "      <td>NaN</td>\n",
       "      <td>NaN</td>\n",
       "      <td>False</td>\n",
       "      <td>NaN</td>\n",
       "      <td>NaN</td>\n",
       "      <td>NaT</td>\n",
       "    </tr>\n",
       "    <tr>\n",
       "      <th>3</th>\n",
       "      <td>27.0</td>\n",
       "      <td>260</td>\n",
       "      <td>66</td>\n",
       "      <td>NaN</td>\n",
       "      <td>NaN</td>\n",
       "      <td>NaN</td>\n",
       "      <td>NaN</td>\n",
       "      <td>NaN</td>\n",
       "      <td>False</td>\n",
       "      <td>NaN</td>\n",
       "      <td>NaN</td>\n",
       "      <td>NaT</td>\n",
       "    </tr>\n",
       "    <tr>\n",
       "      <th>4</th>\n",
       "      <td>65.0</td>\n",
       "      <td>215</td>\n",
       "      <td>57</td>\n",
       "      <td>NaN</td>\n",
       "      <td>NaN</td>\n",
       "      <td>NaN</td>\n",
       "      <td>NaN</td>\n",
       "      <td>NaN</td>\n",
       "      <td>False</td>\n",
       "      <td>NaN</td>\n",
       "      <td>NaN</td>\n",
       "      <td>NaT</td>\n",
       "    </tr>\n",
       "  </tbody>\n",
       "</table>\n",
       "</div>"
      ],
      "text/plain": [
       "   SymxUUBCx  RcKB398  uNQMYeBmQ  lOihuqh9a  pIkq  21rkd6  yLdLOm  CLrQTb  \\\n",
       "0       51.0       10         37        NaN   NaN     NaN     NaN     NaN   \n",
       "1       83.0      440         38        NaN   NaN     NaN     NaN     NaN   \n",
       "2       40.0      150         25        NaN   NaN     NaN     NaN     NaN   \n",
       "3       27.0      260         66        NaN   NaN     NaN     NaN     NaN   \n",
       "4       65.0      215         57        NaN   NaN     NaN     NaN     NaN   \n",
       "\n",
       "   LFThQKIw  sYef  00L3k OjQ  \n",
       "0     False   NaN    NaN NaT  \n",
       "1     False   NaN    NaN NaT  \n",
       "2     False   NaN    NaN NaT  \n",
       "3     False   NaN    NaN NaT  \n",
       "4     False   NaN    NaN NaT  "
      ]
     },
     "execution_count": 16,
     "metadata": {},
     "output_type": "execute_result"
    }
   ],
   "source": [
    "df.head()"
   ]
  },
  {
   "cell_type": "code",
   "execution_count": 17,
   "id": "689cf12a",
   "metadata": {},
   "outputs": [
    {
     "data": {
      "text/html": [
       "<div>\n",
       "<style scoped>\n",
       "    .dataframe tbody tr th:only-of-type {\n",
       "        vertical-align: middle;\n",
       "    }\n",
       "\n",
       "    .dataframe tbody tr th {\n",
       "        vertical-align: top;\n",
       "    }\n",
       "\n",
       "    .dataframe thead th {\n",
       "        text-align: right;\n",
       "    }\n",
       "</style>\n",
       "<table border=\"1\" class=\"dataframe\">\n",
       "  <thead>\n",
       "    <tr style=\"text-align: right;\">\n",
       "      <th></th>\n",
       "      <th>SymxUUBCx</th>\n",
       "      <th>RcKB398</th>\n",
       "      <th>uNQMYeBmQ</th>\n",
       "      <th>lOihuqh9a</th>\n",
       "      <th>pIkq</th>\n",
       "      <th>21rkd6</th>\n",
       "      <th>yLdLOm</th>\n",
       "      <th>CLrQTb</th>\n",
       "      <th>LFThQKIw</th>\n",
       "      <th>sYef</th>\n",
       "      <th>00L3k</th>\n",
       "      <th>OjQ</th>\n",
       "    </tr>\n",
       "  </thead>\n",
       "  <tbody>\n",
       "    <tr>\n",
       "      <th>195</th>\n",
       "      <td>NaN</td>\n",
       "      <td>135</td>\n",
       "      <td>65</td>\n",
       "      <td>20.0</td>\n",
       "      <td>37.0</td>\n",
       "      <td>29.0</td>\n",
       "      <td>73.0</td>\n",
       "      <td>70.0</td>\n",
       "      <td>False</td>\n",
       "      <td>23.0</td>\n",
       "      <td>10.0</td>\n",
       "      <td>2020-02-01</td>\n",
       "    </tr>\n",
       "    <tr>\n",
       "      <th>196</th>\n",
       "      <td>NaN</td>\n",
       "      <td>65</td>\n",
       "      <td>7</td>\n",
       "      <td>89.0</td>\n",
       "      <td>81.0</td>\n",
       "      <td>52.0</td>\n",
       "      <td>86.0</td>\n",
       "      <td>87.0</td>\n",
       "      <td>False</td>\n",
       "      <td>34.0</td>\n",
       "      <td>25.0</td>\n",
       "      <td>2020-02-01</td>\n",
       "    </tr>\n",
       "    <tr>\n",
       "      <th>197</th>\n",
       "      <td>NaN</td>\n",
       "      <td>40</td>\n",
       "      <td>92</td>\n",
       "      <td>51.0</td>\n",
       "      <td>37.0</td>\n",
       "      <td>23.0</td>\n",
       "      <td>46.0</td>\n",
       "      <td>86.0</td>\n",
       "      <td>True</td>\n",
       "      <td>23.0</td>\n",
       "      <td>10.0</td>\n",
       "      <td>2020-02-01</td>\n",
       "    </tr>\n",
       "    <tr>\n",
       "      <th>198</th>\n",
       "      <td>NaN</td>\n",
       "      <td>410</td>\n",
       "      <td>68</td>\n",
       "      <td>92.0</td>\n",
       "      <td>68.0</td>\n",
       "      <td>43.0</td>\n",
       "      <td>76.0</td>\n",
       "      <td>61.0</td>\n",
       "      <td>True</td>\n",
       "      <td>23.0</td>\n",
       "      <td>25.0</td>\n",
       "      <td>2020-02-01</td>\n",
       "    </tr>\n",
       "    <tr>\n",
       "      <th>199</th>\n",
       "      <td>NaN</td>\n",
       "      <td>150</td>\n",
       "      <td>57</td>\n",
       "      <td>49.0</td>\n",
       "      <td>34.0</td>\n",
       "      <td>83.0</td>\n",
       "      <td>26.0</td>\n",
       "      <td>43.0</td>\n",
       "      <td>False</td>\n",
       "      <td>NaN</td>\n",
       "      <td>50.0</td>\n",
       "      <td>2020-02-01</td>\n",
       "    </tr>\n",
       "  </tbody>\n",
       "</table>\n",
       "</div>"
      ],
      "text/plain": [
       "     SymxUUBCx  RcKB398  uNQMYeBmQ  lOihuqh9a  pIkq  21rkd6  yLdLOm  CLrQTb  \\\n",
       "195        NaN      135         65       20.0  37.0    29.0    73.0    70.0   \n",
       "196        NaN       65          7       89.0  81.0    52.0    86.0    87.0   \n",
       "197        NaN       40         92       51.0  37.0    23.0    46.0    86.0   \n",
       "198        NaN      410         68       92.0  68.0    43.0    76.0    61.0   \n",
       "199        NaN      150         57       49.0  34.0    83.0    26.0    43.0   \n",
       "\n",
       "     LFThQKIw  sYef  00L3k        OjQ  \n",
       "195     False  23.0   10.0 2020-02-01  \n",
       "196     False  34.0   25.0 2020-02-01  \n",
       "197      True  23.0   10.0 2020-02-01  \n",
       "198      True  23.0   25.0 2020-02-01  \n",
       "199     False   NaN   50.0 2020-02-01  "
      ]
     },
     "execution_count": 17,
     "metadata": {},
     "output_type": "execute_result"
    }
   ],
   "source": [
    "df.tail()"
   ]
  },
  {
   "cell_type": "code",
   "execution_count": 18,
   "id": "d9665c1c",
   "metadata": {},
   "outputs": [
    {
     "data": {
      "text/plain": [
       "SymxUUBCx           float64\n",
       "RcKB398               int64\n",
       "uNQMYeBmQ             int64\n",
       "lOihuqh9a           float64\n",
       "pIkq                float64\n",
       "21rkd6              float64\n",
       "yLdLOm              float64\n",
       "CLrQTb              float64\n",
       "LFThQKIw               bool\n",
       "sYef                float64\n",
       "00L3k               float64\n",
       "OjQ          datetime64[ns]\n",
       "dtype: object"
      ]
     },
     "execution_count": 18,
     "metadata": {},
     "output_type": "execute_result"
    }
   ],
   "source": [
    "df.dtypes"
   ]
  },
  {
   "cell_type": "markdown",
   "id": "5bcd1630",
   "metadata": {},
   "source": [
    "This example does all the kinds of things you might do while merging + transforming data, including comparisons dependent on the entire column structure. Now I'll show you how to port these types of things to beam."
   ]
  },
  {
   "cell_type": "code",
   "execution_count": null,
   "id": "8e7be0c3",
   "metadata": {},
   "outputs": [],
   "source": [
    "df.to_csv('data3.csv',index=False)"
   ]
  },
  {
   "cell_type": "markdown",
   "id": "6f4a71bf",
   "metadata": {},
   "source": [
    "# This example was simple but your data problems may be complex.\n",
    "\n",
    "# For any of your complex data problems I'm available to hire on contract to help you build and scale whatever data decision engine you need for your business. \n",
    "\n",
    "# Reach out by messaging inquire@automatedinnovations.net"
   ]
  },
  {
   "cell_type": "code",
   "execution_count": null,
   "id": "b1071e00",
   "metadata": {},
   "outputs": [],
   "source": []
  }
 ],
 "metadata": {
  "kernelspec": {
   "display_name": "Python 3 (ipykernel)",
   "language": "python",
   "name": "python3"
  },
  "language_info": {
   "codemirror_mode": {
    "name": "ipython",
    "version": 3
   },
   "file_extension": ".py",
   "mimetype": "text/x-python",
   "name": "python",
   "nbconvert_exporter": "python",
   "pygments_lexer": "ipython3",
   "version": "3.10.0"
  }
 },
 "nbformat": 4,
 "nbformat_minor": 5
}
